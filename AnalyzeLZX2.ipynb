{
 "cells": [
  {
   "cell_type": "code",
   "execution_count": 8,
   "id": "a6e905c1",
   "metadata": {},
   "outputs": [],
   "source": [
    "import os\n",
    "import glob\n",
    "from pathlib import Path\n",
    "import pandas as pd\n",
    "import numpy as np\n",
    "\n",
    "#substitute where you have all your .csv files saved\n",
    "filepath = Path('G:/LZX Stuff/11-11-2022/data')"
   ]
  },
  {
   "cell_type": "code",
   "execution_count": 9,
   "id": "81df5d67",
   "metadata": {},
   "outputs": [
    {
     "name": "stdout",
     "output_type": "stream",
     "text": [
      "G:\\LZX Stuff\\11-11-2022\\data\\11-11-2022_1.csv\n",
      "G:\\LZX Stuff\\11-11-2022\\data\\11-11-2022_2.csv\n",
      "G:\\LZX Stuff\\11-11-2022\\data\\11-11-2022_3.csv\n",
      "G:\\LZX Stuff\\11-11-2022\\data\\11-11-2022_4.csv\n",
      "G:\\LZX Stuff\\11-11-2022\\data\\11-11-2022_5.csv\n"
     ]
    }
   ],
   "source": [
    "#lists directories to make sure you're in the right place, \n",
    "#you can skip running this cell. It just prints all the files in the dir\n",
    "\n",
    "for filename in os.listdir(filepath):\n",
    "    f = os.path.join(filepath, filename)\n",
    "    print(f)"
   ]
  },
  {
   "cell_type": "code",
   "execution_count": 10,
   "id": "88461ce4",
   "metadata": {},
   "outputs": [
    {
     "data": {
      "text/html": [
       "<div>\n",
       "<style scoped>\n",
       "    .dataframe tbody tr th:only-of-type {\n",
       "        vertical-align: middle;\n",
       "    }\n",
       "\n",
       "    .dataframe tbody tr th {\n",
       "        vertical-align: top;\n",
       "    }\n",
       "\n",
       "    .dataframe thead th {\n",
       "        text-align: right;\n",
       "    }\n",
       "</style>\n",
       "<table border=\"1\" class=\"dataframe\">\n",
       "  <thead>\n",
       "    <tr style=\"text-align: right;\">\n",
       "      <th></th>\n",
       "      <th>image</th>\n",
       "      <th>prompt</th>\n",
       "    </tr>\n",
       "  </thead>\n",
       "  <tbody>\n",
       "    <tr>\n",
       "      <th>0</th>\n",
       "      <td>00005.png</td>\n",
       "      <td>a bottle of wine sitting on top of a table, a ...</td>\n",
       "    </tr>\n",
       "    <tr>\n",
       "      <th>1</th>\n",
       "      <td>00002.png</td>\n",
       "      <td>a purple box sitting on top of a snow covered ...</td>\n",
       "    </tr>\n",
       "    <tr>\n",
       "      <th>2</th>\n",
       "      <td>00001.png</td>\n",
       "      <td>a computer mouse sitting on top of a table, a ...</td>\n",
       "    </tr>\n",
       "    <tr>\n",
       "      <th>3</th>\n",
       "      <td>00003.png</td>\n",
       "      <td>a close up of a clock with numbers on it, insp...</td>\n",
       "    </tr>\n",
       "    <tr>\n",
       "      <th>4</th>\n",
       "      <td>00004.png</td>\n",
       "      <td>a close up of a clock on a wall, inspired by S...</td>\n",
       "    </tr>\n",
       "  </tbody>\n",
       "</table>\n",
       "</div>"
      ],
      "text/plain": [
       "       image                                             prompt\n",
       "0  00005.png  a bottle of wine sitting on top of a table, a ...\n",
       "1  00002.png  a purple box sitting on top of a snow covered ...\n",
       "2  00001.png  a computer mouse sitting on top of a table, a ...\n",
       "3  00003.png  a close up of a clock with numbers on it, insp...\n",
       "4  00004.png  a close up of a clock on a wall, inspired by S..."
      ]
     },
     "execution_count": 10,
     "metadata": {},
     "output_type": "execute_result"
    }
   ],
   "source": [
    "#make a glob of files and concatenate all .csvs into a single dataframe\n",
    "\n",
    "all_files = glob.glob(os.path.join(filepath, \"*.csv\"))\n",
    "df = pd.concat((pd.read_csv(f) for f in all_files), ignore_index=True)\n",
    "\n",
    "#check the dataframe (should see 2 columns, image and prompt)\n",
    "df.head()\n"
   ]
  },
  {
   "cell_type": "code",
   "execution_count": 11,
   "id": "14c43441",
   "metadata": {},
   "outputs": [
    {
     "name": "stdout",
     "output_type": "stream",
     "text": [
      "(6287, 2)\n"
     ]
    }
   ],
   "source": [
    "#check size of dataframe\n",
    "print(df.shape)"
   ]
  },
  {
   "cell_type": "code",
   "execution_count": 93,
   "id": "306ec5f8",
   "metadata": {},
   "outputs": [
    {
     "name": "stdout",
     "output_type": "stream",
     "text": [
      "                                             Subject  \\\n",
      "0         a bottle of wine sitting on top of a table   \n",
      "1  a purple box sitting on top of a snow covered ...   \n",
      "2         a computer mouse sitting on top of a table   \n",
      "3           a close up of a clock with numbers on it   \n",
      "4                    a close up of a clock on a wall   \n",
      "\n",
      "                               Genre                       Artist  \\\n",
      "0                  a raytraced image   inspired by Tadanori Yokoo   \n",
      "1                       a screenshot     inspired by Sigmar Polke   \n",
      "2                  a raytraced image               crystal cubism   \n",
      "3   inspired by Stanisław Witkiewicz                    video art   \n",
      "4   inspired by Stanisław Witkiewicz                    video art   \n",
      "\n",
      "                                              Flavor  \n",
      "0   video art, seapunk mecha, camera looking down...  \n",
      "1   video art, seapunk mecha, old distorted camco...  \n",
      "2   damaged camcorder video, purple color pallete...  \n",
      "3   jsrf, vapourwave, splatoon 3, teaser, disconn...  \n",
      "4   vaporwave cartoon, scanlines, alien ruins, bl...  \n"
     ]
    }
   ],
   "source": [
    "#splits prompt into \"subject,\" genre\", \"artist,\" and \"flavor\"\n",
    "#i'd made the assumption clip interrogator writes these things always in the\n",
    "# order subject-genre-artist-flavors, but seems like genre/artist flip sometimes.\n",
    "#not sure how to account for this.\n",
    "\n",
    "split_df = df['prompt'].str.split(',',n=3, expand=True)\n",
    "split_df = split_df.rename(columns={0: \"Subject\", 1: \"Genre\", 2:\"Artist\",3:\"Flavor\"})\n",
    "print(split_df.head())\n",
    "\n"
   ]
  },
  {
   "cell_type": "code",
   "execution_count": 94,
   "id": "6f2f17bd",
   "metadata": {},
   "outputs": [
    {
     "name": "stdout",
     "output_type": "stream",
     "text": [
      " video art                           983\n",
      " inspired by Roy Newell              979\n",
      " polycount                           883\n",
      " inspired by Stanisław Witkiewicz    384\n",
      " inspired by Alfred Manessier        268\n",
      "                                    ... \n",
      " water mirrored water                  6\n",
      " inspired by Sadamichi Hirasawa        6\n",
      " cubism                                6\n",
      " inspired by Bedwyr Williams           5\n",
      " inspired by Benoit B. Mandelbrot      5\n",
      "Name: Artist, Length: 62, dtype: int64\n"
     ]
    }
   ],
   "source": [
    "# grab 20% of whatever the size of the Series is\n",
    "percentile = split_df['Artist'].value_counts().size/5\n",
    "percentile = round(percentile)\n",
    "#check your math by uncommenting the next two lines and running cell\n",
    "#print(percentile)\n",
    "#print(df['Artist'].value_counts().size)\n",
    "\n",
    "#then use as a slicer to print top 20% of results\n",
    "print(split_df['Artist'].value_counts()[:percentile])\n"
   ]
  },
  {
   "cell_type": "code",
   "execution_count": 15,
   "id": "f750ec4b",
   "metadata": {},
   "outputs": [
    {
     "data": {
      "text/plain": [
       " video art                        2921\n",
       " 2 0 1 5 live music video         1321\n",
       " aspect ratio 16:9                 911\n",
       " cartoon network stillframe        810\n",
       " polycount                         640\n",
       "                                  ... \n",
       " mechanical butterfly                1\n",
       " taken on a 1960s kodak camera       1\n",
       " retro                               1\n",
       " void manifold                       1\n",
       " film color                          1\n",
       "Name: Flavor, Length: 6228, dtype: int64"
      ]
     },
     "execution_count": 15,
     "metadata": {},
     "output_type": "execute_result"
    }
   ],
   "source": [
    "#Flavors are a column of lists \"Flavor 1, flavor 2, flavor 3...\"\n",
    "#So this splits them into separate columns for each list entry\n",
    "flavors = split_df['Flavor'].str.split(',', expand=True)\n",
    "\n",
    "#Then melts it into a SINGLE column, which we can now use to see\n",
    "flavors_melted = flavors.melt(var_name = 'Column', value_name = 'Flavor')\n",
    "\n",
    "#how often each INDIVIDUAL flavor appears\n",
    "flavors_melted['Flavor'].value_counts()"
   ]
  },
  {
   "cell_type": "code",
   "execution_count": 95,
   "id": "6ea2a5b1",
   "metadata": {},
   "outputs": [
    {
     "name": "stdout",
     "output_type": "stream",
     "text": [
      "                             Flavor  count\n",
      "0                         video art   2921\n",
      "1          2 0 1 5 live music video   1321\n",
      "2                 aspect ratio 16:9    911\n",
      "3        cartoon network stillframe    810\n",
      "4                         polycount    640\n",
      "..                              ...    ...\n",
      "611   bass sound waves on circuitry     11\n",
      "612                   color tearing     11\n",
      "613                        rippling     11\n",
      "614        purple blue color scheme     11\n",
      "615          the ring is horizontal     11\n",
      "\n",
      "[616 rows x 2 columns]\n"
     ]
    }
   ],
   "source": [
    "#reduces the size of the input list to the top X% of entries\n",
    "def get_top_percentile(percentile, frame, column):\n",
    "    percentile = split_df[column].value_counts().size*percentile\n",
    "    percentile = round(percentile)\n",
    "    \n",
    "    #there's gotta be a cleaner way to do this.\n",
    "    new_frame = frame[column].value_counts()[:percentile].to_frame().reset_index()\n",
    "    new_frame = new_frame.rename(columns={'index': column, column: 'count'})\n",
    "    return new_frame\n",
    "\n",
    "#uncomment to make sure it's working\n",
    "#print(get_top_percentile(.1, flavors_melted, 'Flavor'))"
   ]
  },
  {
   "cell_type": "code",
   "execution_count": 16,
   "id": "3678bb15",
   "metadata": {},
   "outputs": [
    {
     "name": "stdout",
     "output_type": "stream",
     "text": [
      "                              Flavor  count\n",
      "0                          video art   2921\n",
      "1           2 0 1 5 live music video   1321\n",
      "2                  aspect ratio 16:9    911\n",
      "3         cartoon network stillframe    810\n",
      "4                          polycount    640\n",
      "..                               ...    ...\n",
      "303                              vhs     21\n",
      "304   cinematic panavision 5384 film     21\n",
      "305                 anime screenshot     21\n",
      "306           sharp irregular shapes     21\n",
      "307                  vhs distortions     21\n",
      "\n",
      "[308 rows x 2 columns]\n"
     ]
    }
   ],
   "source": [
    "#determines what percentiles to take from \n",
    "\n",
    "pct = .1\n",
    "top_subjects = get_top_percentile(pct*.75, split_df, 'Subject')\n",
    "top_artists = get_top_percentile(pct*2, split_df, 'Artist')\n",
    "top_genres = get_top_percentile(pct, split_df, 'Genre')\n",
    "top_flavors = get_top_percentile(pct*.5, flavors_melted, 'Flavor')\n",
    "\n",
    "print(top_flavors)"
   ]
  },
  {
   "cell_type": "code",
   "execution_count": 91,
   "id": "4b023ec9",
   "metadata": {},
   "outputs": [
    {
     "name": "stdout",
     "output_type": "stream",
     "text": [
      "a multicolored image of an abstract design, inspired by Stanisław Witkiewicz, computer graphics,  ripple,  shot with a arriflex 35 ii,  tv color test pattern,  aspect ratio 16:9,  64x64,  2 0 1 5 live music video,  red and blue color scheme,  blue color bleed\n"
     ]
    }
   ],
   "source": [
    "#okay, so what's next? get weighted random choice from each of these.\n",
    "\n",
    "import random\n",
    "\n",
    "def prompt_piece(dataframe, num):\n",
    "    return random.choices(dataframe[dataframe.columns[0]], dataframe[dataframe.columns[1]],k = num)\n",
    "\n",
    "def get_flavors(flavs):\n",
    "    for flavor in flavs:\n",
    "        return prompt_piece(top_flavors)[0]\n",
    "\n",
    "#change the number here to set the maximum number of flavors\n",
    "flavor = prompt_piece(top_flavors, 8)\n",
    "\n",
    "#the below lines de-dupe the list of flavors. that's what's happening if you\n",
    "#get fewer than the max\n",
    "deduped = list(set(flavor))\n",
    "flavs_out = \", \".join(deduped)\n",
    "\n",
    "\n",
    "print(f'{prompt_piece(top_subjects, 1)[0]},{prompt_piece(top_artists,1)[0]},{prompt_piece(top_genres,1)[0]},',flavs_out)"
   ]
  },
  {
   "cell_type": "code",
   "execution_count": 92,
   "id": "f44f59f4",
   "metadata": {},
   "outputs": [
    {
     "name": "stdout",
     "output_type": "stream",
     "text": [
      "[' polycount, computer art, weeping tears of black oil, large triangular shapes, exploitable image, still frame from a movie, mountain water']\n"
     ]
    }
   ],
   "source": [
    "#this one will just pull out a list of flavors from one individual image\n",
    "#this will produce slightly different results, depending on how homogenous\n",
    "#the input data is\n",
    "\n",
    "with np.printoptions(edgeitems=50):\n",
    "    print(split_df[\"Flavor\"].sample().tolist())"
   ]
  },
  {
   "cell_type": "code",
   "execution_count": null,
   "id": "295a6c5e",
   "metadata": {},
   "outputs": [],
   "source": []
  },
  {
   "cell_type": "code",
   "execution_count": null,
   "id": "c6dbee57",
   "metadata": {},
   "outputs": [],
   "source": []
  },
  {
   "cell_type": "code",
   "execution_count": null,
   "id": "7b44e66a",
   "metadata": {},
   "outputs": [],
   "source": []
  }
 ],
 "metadata": {
  "kernelspec": {
   "display_name": "Python 3 (ipykernel)",
   "language": "python",
   "name": "python3"
  },
  "language_info": {
   "codemirror_mode": {
    "name": "ipython",
    "version": 3
   },
   "file_extension": ".py",
   "mimetype": "text/x-python",
   "name": "python",
   "nbconvert_exporter": "python",
   "pygments_lexer": "ipython3",
   "version": "3.9.12"
  }
 },
 "nbformat": 4,
 "nbformat_minor": 5
}
